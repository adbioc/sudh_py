{
 "cells": [
  {
   "cell_type": "markdown",
   "metadata": {},
   "source": [
    "## Write a function to compute 5/0 and use try/except to catch the exceptions."
   ]
  },
  {
   "cell_type": "code",
   "execution_count": 32,
   "metadata": {},
   "outputs": [
    {
     "name": "stdout",
     "output_type": "stream",
     "text": [
      "n= range(-10, 10)\n",
      "i   5 by i\n",
      "\n",
      "9 0.5555555555555556\n",
      "8 0.625\n",
      "7 0.7142857142857143\n",
      "6 0.8333333333333334\n",
      "5 1.0\n",
      "4 1.25\n",
      "3 1.6666666666666667\n",
      "2 2.5\n",
      "1 5.0\n",
      "Error occurred at i=  0\n"
     ]
    }
   ],
   "source": [
    "n=range(-10,10)\n",
    "count=0\n",
    "print(\"n=\",n)\n",
    "print(\"i   5 by i\\n\")\n",
    "try:\n",
    "    for i in n[::-1]:\n",
    "        print(i,5/i)\n",
    "        \n",
    "except:\n",
    "    print (\"Error occurred at i= \",count)\n",
    "    "
   ]
  },
  {
   "cell_type": "markdown",
   "metadata": {},
   "source": [
    "## 2. Implement a Python program to generate all sentences where subject is in [\"Americans\", \"Indians\"] and verb is in [\"Play\", \"watch\"] and the object is in [\"Baseball\",\"cricket\"].\n",
    "- Hint: Subject,Verb and Object should be declared in the program as shown below.\n",
    "- subjects=[\"Americans \",\"Indians\"] verbs=[\"play\",\"watch\"] objects=[\"Baseball\",\"Cricket\"]\n",
    "## Output should come as below:\n",
    "- Americans play Baseball.\n",
    "- Americans play Cricket. \n",
    "- Americans watch Baseball. \n",
    "- Americans watch Cricket. \n",
    "- Indians play Baseball. Indians play Cricket. Indians watch Baseball. Indians watch Cricket."
   ]
  },
  {
   "cell_type": "code",
   "execution_count": 79,
   "metadata": {
    "scrolled": true
   },
   "outputs": [
    {
     "name": "stdout",
     "output_type": "stream",
     "text": [
      "\n",
      " Americans  play Baseball \n",
      " \n",
      " Americans  play Cricket \n",
      " \n",
      " Americans  watch Baseball \n",
      " \n",
      " Americans  plays cricket \n",
      " \n",
      " Indians  play Baseball \n",
      " \n",
      " Indians  play Cricket \n",
      " \n",
      " Indians  watch Baseball \n",
      " \n",
      " Indians  plays cricket \n",
      "\n"
     ]
    }
   ],
   "source": [
    "class players:\n",
    "    def __init__(self,nation,game,verb):\n",
    "            self._nation=nation\n",
    "            self._game=game\n",
    "            self._verb=verb\n",
    "    \n",
    "    def __str__(self):\n",
    "        return \"%s  %s %s \\n\"%(self._nation,self._verb,self._game)\n",
    "\n",
    "\n",
    "p1=players(\"Americans\",\"Baseball\",\"play\")\n",
    "p2=players(\"Americans\",\"Cricket\",\"play\")\n",
    "p3=players(\"Americans\",\"Baseball\",\"watch\")\n",
    "p4=players(\"Americans\",\"cricket\",\"plays\")\n",
    "q1=players(\"Indians\",\"Baseball\",\"play\")\n",
    "q2=players(\"Indians\",\"Cricket\",\"play\")\n",
    "q3=players(\"Indians\",\"Baseball\",\"watch\")\n",
    "q4=players(\"Indians\",\"cricket\",\"plays\")\n",
    "\n",
    "\n",
    "\n",
    "\n",
    "\n",
    "\n",
    "\n",
    "print(\"\\n\",p1,\"\\n\",p2,\"\\n\",p3,\"\\n\",p4,\"\\n\",q1,\"\\n\",q2,\"\\n\",q3,\"\\n\",q4)\n"
   ]
  },
  {
   "cell_type": "markdown",
   "metadata": {},
   "source": [
    "## Task 2:Write a function so that the columns of the output matrix are powers of the input vector.order of the powers is determined by the increasing boolean argument. Specifically, when increasing is False, the i-th output column is the input vector raised element-wise to the power of N - i - 1.\n",
    "- HINT: Such a matrix with a geometric progression in each row is named for Alexandre- Theophile Vandermonde."
   ]
  },
  {
   "cell_type": "markdown",
   "metadata": {},
   "source": [
    "### URLS referred\n",
    "- https://stackoverflow.com/questions/58868529/how-would-i-create-a-matrix-in-python-without-importing-modules-how-would-i-mak\n",
    "- https://stackoverflow.com/questions/58868529/how-would-i-create-a-matrix-in-python-without-importing-modules-how-would-i-mak\n",
    "- https://www.wikiwand.com/en/Vandermonde_matrix"
   ]
  },
  {
   "cell_type": "markdown",
   "metadata": {},
   "source": [
    "Elements of a Vander Monde matrix is given by  $V_{ij}= \\alpha_i^{j-1}$\n",
    "- For a 4X4 case we need to know the list  [$\\alpha 1$,$\\alpha 2$,$\\alpha 3$,$\\alpha 4$]"
   ]
  },
  {
   "cell_type": "code",
   "execution_count": 48,
   "metadata": {},
   "outputs": [
    {
     "name": "stdout",
     "output_type": "stream",
     "text": [
      "Enter the number of independent alpha elements that will generate the V-M matrix4\n",
      "1\n",
      "-2\n",
      "3\n",
      "5\n"
     ]
    }
   ],
   "source": [
    "# Generate a list of n alpha values so that V iis defined \n",
    "vlist=[]\n",
    "N=input('Enter the number of independent alpha elements that will generate the V-M matrix')\n",
    "m=[]\n",
    "alpha=[]\n",
    "for i in range(int(N)):\n",
    "    m.append(input(''))\n",
    "\n",
    "for item in m :\n",
    "    alpha.append(float(item))\n"
   ]
  },
  {
   "cell_type": "code",
   "execution_count": 49,
   "metadata": {},
   "outputs": [
    {
     "data": {
      "text/plain": [
       "[1.0, -2.0, 3.0, 5.0]"
      ]
     },
     "execution_count": 49,
     "metadata": {},
     "output_type": "execute_result"
    }
   ],
   "source": [
    "alpha"
   ]
  },
  {
   "cell_type": "code",
   "execution_count": 71,
   "metadata": {},
   "outputs": [],
   "source": [
    "# A function that creates a row of the matrix \n",
    "def createVMrow(alpha,colelements):\n",
    "    start=1\n",
    "    ratio=alpha\n",
    "    progression = [start * ratio**i for i in range(colelements)]\n",
    "    return(progression)\n"
   ]
  },
  {
   "cell_type": "code",
   "execution_count": 72,
   "metadata": {},
   "outputs": [
    {
     "data": {
      "text/plain": [
       "[1, 2, 4, 8]"
      ]
     },
     "execution_count": 72,
     "metadata": {},
     "output_type": "execute_result"
    }
   ],
   "source": [
    "createVMrow(2,4)"
   ]
  },
  {
   "cell_type": "code",
   "execution_count": 81,
   "metadata": {},
   "outputs": [],
   "source": [
    "# A function that stacks the row and creates the matrix (list of lists)\n",
    "\n",
    "def createVMmatrix(alpha,rowelements,colelements):\n",
    "    row=[]\n",
    "    for i in range(colelements):\n",
    "        print(i)\n",
    "        row.append(createVMrow(alpha,colelements))"
   ]
  },
  {
   "cell_type": "code",
   "execution_count": 82,
   "metadata": {},
   "outputs": [
    {
     "name": "stdout",
     "output_type": "stream",
     "text": [
      "0\n",
      "1\n",
      "2\n",
      "3\n"
     ]
    }
   ],
   "source": [
    "s=createVMmatrix(2,4,4)"
   ]
  },
  {
   "cell_type": "code",
   "execution_count": 80,
   "metadata": {},
   "outputs": [
    {
     "name": "stdout",
     "output_type": "stream",
     "text": [
      "None\n"
     ]
    }
   ],
   "source": [
    "print(s)"
   ]
  },
  {
   "cell_type": "code",
   "execution_count": 98,
   "metadata": {},
   "outputs": [],
   "source": [
    "def vm(alpha,rows,cols):\n",
    "    m=[]\n",
    "    for i in range(rows):\n",
    "        m.append(createVMrow(alpha[i],cols))\n",
    "    return m\n",
    "    \n",
    "    \n",
    "        "
   ]
  },
  {
   "cell_type": "code",
   "execution_count": 109,
   "metadata": {},
   "outputs": [
    {
     "name": "stdout",
     "output_type": "stream",
     "text": [
      "1 1 1\n",
      "1 2 4\n",
      "1 3 9\n",
      "1 4 16\n",
      "1 5 25\n"
     ]
    }
   ],
   "source": [
    "alpha=[1,2,3,4,5]\n",
    "rows=5\n",
    "cols=3\n",
    "s=vm(alpha,rows,cols)\n",
    "[print(*j) for j in s]\n",
    "# for j in s:\n",
    "#     print(*j)"
   ]
  },
  {
   "cell_type": "code",
   "execution_count": null,
   "metadata": {},
   "outputs": [],
   "source": []
  }
 ],
 "metadata": {
  "kernelspec": {
   "display_name": "Python 3",
   "language": "python",
   "name": "python3"
  },
  "language_info": {
   "codemirror_mode": {
    "name": "ipython",
    "version": 3
   },
   "file_extension": ".py",
   "mimetype": "text/x-python",
   "name": "python",
   "nbconvert_exporter": "python",
   "pygments_lexer": "ipython3",
   "version": "3.7.4"
  }
 },
 "nbformat": 4,
 "nbformat_minor": 2
}
