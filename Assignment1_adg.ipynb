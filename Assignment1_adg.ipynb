{
 "cells": [
  {
   "cell_type": "markdown",
   "metadata": {},
   "source": [
    "## Asignment May 1"
   ]
  },
  {
   "cell_type": "markdown",
   "metadata": {},
   "source": [
    "1. Install Jupyter notebook and run the first program and share the screenshot of the output."
   ]
  },
  {
   "cell_type": "markdown",
   "metadata": {},
   "source": [
    "### Task 1"
   ]
  },
  {
   "cell_type": "markdown",
   "metadata": {},
   "source": [
    " 2. Write a program which will find all such numbers which are divisible by 7 \n",
    "but are not a multiple of 5, between 2000 and 3200 (both included). The numbers obtained should be printed in a comma-separated sequence on a single line."
   ]
  },
  {
   "cell_type": "code",
   "execution_count": 1,
   "metadata": {},
   "outputs": [
    {
     "name": "stdout",
     "output_type": "stream",
     "text": [
      "Updated numbers list:  [2001, 2002, 2003, 2004, 2006, 2007, 2008, 2009, 2011, 2012, 2013, 2014, 2016, 2017, 2018, 2019, 2021, 2022, 2023, 2024, 2026, 2027, 2028, 2029, 2031, 2032, 2033, 2034, 2036, 2037, 2038, 2039, 2041, 2042, 2043, 2044, 2046, 2047, 2048, 2049, 2051, 2052, 2053, 2054, 2056, 2057, 2058, 2059, 2061, 2062, 2063, 2064, 2066, 2067, 2068, 2069, 2071, 2072, 2073, 2074, 2076, 2077, 2078, 2079, 2081, 2082, 2083, 2084, 2086, 2087, 2088, 2089, 2091, 2092, 2093, 2094, 2096, 2097, 2098, 2099, 2101, 2102, 2103, 2104, 2106, 2107, 2108, 2109, 2111, 2112, 2113, 2114, 2116, 2117, 2118, 2119, 2121, 2122, 2123, 2124, 2126, 2127, 2128, 2129, 2131, 2132, 2133, 2134, 2136, 2137, 2138, 2139, 2141, 2142, 2143, 2144, 2146, 2147, 2148, 2149, 2151, 2152, 2153, 2154, 2156, 2157, 2158, 2159, 2161, 2162, 2163, 2164, 2166, 2167, 2168, 2169, 2171, 2172, 2173, 2174, 2176, 2177, 2178, 2179, 2181, 2182, 2183, 2184, 2186, 2187, 2188, 2189, 2191, 2192, 2193, 2194, 2196, 2197, 2198, 2199]\n"
     ]
    }
   ],
   "source": [
    "numbers=[]\n",
    "for i in range(2000,2200):\n",
    "    if i%5  !=0 :\n",
    "     numbers.append(i)\n",
    "    else:\n",
    "      continue\n",
    "    \n",
    "\n",
    "#Updated List\n",
    "print('Updated numbers list: ', numbers)"
   ]
  },
  {
   "cell_type": "markdown",
   "metadata": {},
   "source": [
    "Write a Python program to accept the user's first and last name and then getting them printed in the the reverse order with a space between first name and last name."
   ]
  },
  {
   "cell_type": "code",
   "execution_count": 3,
   "metadata": {},
   "outputs": [
    {
     "name": "stdout",
     "output_type": "stream",
     "text": [
      "enter first nameAnjan \n",
      "surnameDasgupta \n",
      " najnA  atpugsaD\n"
     ]
    }
   ],
   "source": [
    "first=input(\"enter first name\")\n",
    "last=input(\"surname\")\n",
    "#first=\"Anjan\"\n",
    "#last=\"Dasgupta\"\n",
    "\n",
    "print(first[-1: :-1],last[-1: :-1])"
   ]
  },
  {
   "cell_type": "markdown",
   "metadata": {},
   "source": [
    "Write a Python program to find the volume of a sphere with diameter 12 cm. Formula: $V=4/3 * \\pi * r ^3$"
   ]
  },
  {
   "cell_type": "code",
   "execution_count": 4,
   "metadata": {},
   "outputs": [
    {
     "name": "stdout",
     "output_type": "stream",
     "text": [
      "enter the radius1.0\n",
      "4.552\n"
     ]
    }
   ],
   "source": [
    "r=float(input(\"enter the radius\"))\n",
    "v=(4.0/3.0)*(3.414)*(r*r*r)\n",
    "print(v)"
   ]
  },
  {
   "cell_type": "markdown",
   "metadata": {},
   "source": [
    "### Task2 "
   ]
  },
  {
   "cell_type": "markdown",
   "metadata": {},
   "source": [
    "1. Write a program which accepts a sequence of comma-separated numbers from console and generate a list."
   ]
  },
  {
   "cell_type": "code",
   "execution_count": 9,
   "metadata": {},
   "outputs": [
    {
     "name": "stdout",
     "output_type": "stream",
     "text": [
      "Enter comma separated integers: 1,2,3,4\n",
      "<class 'str'> 1,2,3,4\n"
     ]
    }
   ],
   "source": [
    "s = input (\"Enter comma separated integers: \")\n",
    "l=len(s)\n",
    "print(type(s),s)"
   ]
  },
  {
   "cell_type": "markdown",
   "metadata": {},
   "source": [
    "2. Create the below pattern using nested for loop in Python.\n",
    "      *\n",
    "      **\n",
    "      ***\n",
    "      ****\n",
    "      *****\n",
    "      ****\n",
    "      ***\n",
    "      **\n",
    "      *\n"
   ]
  },
  {
   "cell_type": "code",
   "execution_count": 10,
   "metadata": {},
   "outputs": [
    {
     "name": "stdout",
     "output_type": "stream",
     "text": [
      "0 *\n",
      "1 **\n",
      "2 ***\n",
      "3 ****\n",
      "4 *****\n",
      "5 ****\n",
      "6 ***\n",
      "7 **\n",
      "8 *\n",
      "9 \n"
     ]
    }
   ],
   "source": [
    "m = \"\"\n",
    "\n",
    "for i in range(10):\n",
    "  m=m+\"*\"\n",
    "  if i>4:\n",
    "   m=m[0:10-i-1]\n",
    "  print(i,m)"
   ]
  },
  {
   "cell_type": "code",
   "execution_count": null,
   "metadata": {},
   "outputs": [],
   "source": []
  }
 ],
 "metadata": {
  "kernelspec": {
   "display_name": "Python 3",
   "language": "python",
   "name": "python3"
  },
  "language_info": {
   "codemirror_mode": {
    "name": "ipython",
    "version": 3
   },
   "file_extension": ".py",
   "mimetype": "text/x-python",
   "name": "python",
   "nbconvert_exporter": "python",
   "pygments_lexer": "ipython3",
   "version": "3.7.4"
  }
 },
 "nbformat": 4,
 "nbformat_minor": 2
}
